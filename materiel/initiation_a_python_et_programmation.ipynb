{
 "cells": [
  {
   "cell_type": "markdown",
   "metadata": {},
   "source": [
    "# Python : premiers pas\n",
    "\n",
    "*par [Antoine Mazieres](https://www.antonomase.fr/) et [Julie Pierson](https://letg.cnrs.fr/auteur470.html)*\n",
    "\n",
    "Bienvenu dans Python ! Vous êtes dans un *notebook*, un manière simple et interactive de programmer dans ce langage."
   ]
  },
  {
   "cell_type": "code",
   "execution_count": null,
   "metadata": {},
   "outputs": [],
   "source": [
    "# Cliquez ici, et appuyer sur Majuscule + Enter pour \"Executer\" la \"cellule\"\n",
    "print(\"Hello\")"
   ]
  },
  {
   "cell_type": "markdown",
   "metadata": {},
   "source": [
    "Vous pouvez rajouter et supprimer des cellules grâce au menu `Insert` et bien d'autres choses encore !\n",
    "\n",
    "Nous allons utiliser cet environnement tout au long de ces ateliers."
   ]
  },
  {
   "cell_type": "code",
   "execution_count": null,
   "metadata": {},
   "outputs": [],
   "source": [
    "# un nombre (<- un commentaire)\n",
    "10"
   ]
  },
  {
   "cell_type": "code",
   "execution_count": null,
   "metadata": {},
   "outputs": [],
   "source": [
    "# une opération\n",
    "10 + 5"
   ]
  },
  {
   "cell_type": "code",
   "execution_count": null,
   "metadata": {},
   "outputs": [],
   "source": [
    "# une erreur\n",
    "5 + \"2\""
   ]
  },
  {
   "cell_type": "code",
   "execution_count": null,
   "metadata": {},
   "outputs": [],
   "source": [
    "# des booléens\n",
    "True"
   ]
  },
  {
   "cell_type": "code",
   "execution_count": null,
   "metadata": {},
   "outputs": [],
   "source": [
    "# de la logique\n",
    "True or False"
   ]
  },
  {
   "cell_type": "code",
   "execution_count": null,
   "metadata": {},
   "outputs": [],
   "source": [
    "# une liste\n",
    "[1, 2, 3]"
   ]
  },
  {
   "cell_type": "code",
   "execution_count": null,
   "metadata": {},
   "outputs": [],
   "source": [
    "# une liste peut mélanger les types de données\n",
    "[1, 2, 3, \"abc\", 8, [9, 8, 7]]"
   ]
  },
  {
   "cell_type": "code",
   "execution_count": null,
   "metadata": {},
   "outputs": [],
   "source": [
    "# un ensemble (set)\n",
    "{1, 1, 1, 1, 2, 3}"
   ]
  },
  {
   "cell_type": "code",
   "execution_count": null,
   "metadata": {},
   "outputs": [],
   "source": [
    "# un dictionnaire avec des clés et des valeurs\n",
    "{\n",
    "    \"Graham\": 1941,\n",
    "    \"John\": 1939\n",
    "}"
   ]
  },
  {
   "cell_type": "code",
   "execution_count": null,
   "metadata": {},
   "outputs": [],
   "source": [
    "# additionner des chaines de caractères ?\n",
    "\"abc\" + \"def\""
   ]
  },
  {
   "cell_type": "code",
   "execution_count": null,
   "metadata": {},
   "outputs": [],
   "source": [
    "# multiplier des chaines de caractères ?\n",
    "\"abc\" * 5"
   ]
  },
  {
   "cell_type": "code",
   "execution_count": null,
   "metadata": {},
   "outputs": [],
   "source": [
    "# contient ?\n",
    "\"aa\" in \"Sacré Graal !\""
   ]
  },
  {
   "cell_type": "code",
   "execution_count": null,
   "metadata": {},
   "outputs": [],
   "source": [
    "# ne contient pas ?\n",
    "\"aa\" not in \"Sacré Graal !\""
   ]
  },
  {
   "cell_type": "code",
   "execution_count": null,
   "metadata": {},
   "outputs": [],
   "source": [
    "\"mettre en majuscule\".upper()"
   ]
  },
  {
   "cell_type": "code",
   "execution_count": null,
   "metadata": {},
   "outputs": [],
   "source": [
    "\"commence par ?\".startswith(\"co\")"
   ]
  },
  {
   "cell_type": "code",
   "execution_count": null,
   "metadata": {},
   "outputs": [],
   "source": [
    "# manipuler un liste (en Python, on commence avec 0)\n",
    "li = [1, \"a\"]\n",
    "li[0]"
   ]
  },
  {
   "cell_type": "code",
   "execution_count": null,
   "metadata": {},
   "outputs": [],
   "source": [
    "li[1] = 'b'\n",
    "li"
   ]
  },
  {
   "cell_type": "code",
   "execution_count": null,
   "metadata": {},
   "outputs": [],
   "source": [
    "# concaténation de listes ?\n",
    "[1, \"a\"] + ['3', \"machin\"]"
   ]
  },
  {
   "cell_type": "code",
   "execution_count": null,
   "metadata": {},
   "outputs": [],
   "source": [
    "# union d'ensembles ?\n",
    "{\"a\", \"b\"} | {\"a\", \"x\", \"y\"}"
   ]
  },
  {
   "cell_type": "code",
   "execution_count": null,
   "metadata": {},
   "outputs": [],
   "source": [
    "# intersection d'ensembles ?\n",
    "{\"a\", \"b\"} & {\"a\", \"x\", \"y\"}"
   ]
  },
  {
   "cell_type": "code",
   "execution_count": null,
   "metadata": {},
   "outputs": [],
   "source": [
    "# manipuler un dictionnaire\n",
    "di = {\"Graham\": 1941, \"John\": 1939}\n",
    "di['John']"
   ]
  },
  {
   "cell_type": "code",
   "execution_count": null,
   "metadata": {},
   "outputs": [],
   "source": [
    "# utiliser des conditions\n",
    "chaine = \"abracadabra\"\n",
    "if \"aa\" in chaine:\n",
    "    print(\"il y a deux 'a' qui se suivent\")\n",
    "elif \"a\" in chaine:\n",
    "    print(\"il y a un 'a'\")\n",
    "else:\n",
    "    print(\"pas de 'a'\")"
   ]
  },
  {
   "cell_type": "code",
   "execution_count": null,
   "metadata": {},
   "outputs": [],
   "source": [
    "# utiliser une boucle for\n",
    "collegues = ['anne', 'bob', 'clement']\n",
    "for nom in collegues:\n",
    "    print(nom)\n"
   ]
  },
  {
   "cell_type": "code",
   "execution_count": null,
   "metadata": {},
   "outputs": [],
   "source": [
    "# déclarer une fonction\n",
    "def multiplier_par_m(nombre, m):\n",
    "    resultat = nombre * m\n",
    "    return resultat\n",
    "\n",
    "multiplier_par_m(10, 5)"
   ]
  },
  {
   "cell_type": "markdown",
   "metadata": {},
   "source": [
    "**Liens utiles pour aller plus loin**\n",
    "\n",
    "Pour le vocabulaire, jetez un coup d'oeil au glossaire : https://docs.python.org/3/glossary.html\n",
    "\n",
    "Pour les types de données (liste, ensemble, dictionnaire, ...) : https://docs.python.org/3/library/stdtypes.html\n",
    "\n",
    "Pour les fonctions (print, upper, startswith, ...) : https://docs.python.org/3/library/functions.html\n",
    "\n",
    "Pour finir, voici un tutoriel de référence : https://docs.python.org/3/tutorial/"
   ]
  },
  {
   "cell_type": "markdown",
   "metadata": {},
   "source": [
    "**Quelques exercices**"
   ]
  },
  {
   "cell_type": "markdown",
   "metadata": {},
   "source": [
    "1. Affichez le nombre de caractères dans ce paragraphe\n",
    "\n",
    "*(indice : jetez un coup d'oeil au [tutoriel sur les chaines de caractères](https://docs.python.org/3/tutorial/introduction.html#strings) (string))*"
   ]
  },
  {
   "cell_type": "code",
   "execution_count": null,
   "metadata": {},
   "outputs": [],
   "source": [
    "phantom_menace = \"\"\"Turmoil has engulfed the Galactic Republic. The\n",
    "taxation of trade routes to outlying star systems is in\n",
    "dispute. Hoping to resolve the matter with a blockade of deadly\n",
    "battleships, the greedy Trade Federation has stopped all shipping to\n",
    "the small planet of Naboo. While the congress of the Republic\n",
    "endlessly debates this alarming chain of events, the Supreme\n",
    "Chancellor has secretly dispatched two Jedi Knights, the guardians of\n",
    "peace and justice in the galaxy, to settle the conflict\"\"\""
   ]
  },
  {
   "cell_type": "code",
   "execution_count": null,
   "metadata": {},
   "outputs": [],
   "source": [
    "# Votre réponse\n",
    "len(phantom_menace)\n",
    "\n",
    "\n"
   ]
  },
  {
   "cell_type": "markdown",
   "metadata": {},
   "source": [
    "2. Comptez le nombre de mots dans le même paragraphe\n",
    "\n",
    "*(indice : jetez un coup d'oeil à [split](https://docs.python.org/3.8/library/stdtypes.html?highlight=split#str.split))*"
   ]
  },
  {
   "cell_type": "code",
   "execution_count": null,
   "metadata": {},
   "outputs": [],
   "source": [
    "# Votre réponse\n",
    "l = phantom_menace.split(' ')\n",
    "len(l)\n",
    "\n",
    "\n"
   ]
  },
  {
   "cell_type": "markdown",
   "metadata": {},
   "source": [
    "3. Créez une fonction qui retourne le mot le plus long du même paragraphe\n",
    "\n",
    "*(vous aurez peut-être besoin de [strip](https://docs.python.org/3.8/library/stdtypes.html?highlight=split#str.strip))*"
   ]
  },
  {
   "cell_type": "code",
   "execution_count": null,
   "metadata": {},
   "outputs": [],
   "source": [
    "# Votre réponse\n",
    "def longest_word(text):\n",
    "    l = text.split()\n",
    "    l = [i.strip(',.;:') for i in l]\n",
    "    longueur_mots = [len(i) for i in l]\n",
    "    i = longueur_mots.index(max(longueur_mots))\n",
    "    return l[i]\n",
    "\n",
    "if __name__ == \"__main__\":\n",
    "    print(longest_word(phantom_menace))"
   ]
  },
  {
   "cell_type": "markdown",
   "metadata": {},
   "source": [
    "4. Calculez et affichez la somme de tous les entiers naturels inférieur à 1000 (<1000) qui sont des multiples de 3 ou 5\n",
    "\n",
    "*(Pour savoir si un nombre est un multiple d'un autre, vous pouvez notamment utiliser l'opérateur [modulo](https://docs.python.org/3.8/reference/expressions.html#binary-arithmetic-operations))*"
   ]
  },
  {
   "cell_type": "code",
   "execution_count": null,
   "metadata": {},
   "outputs": [],
   "source": [
    "# Votre réponse\n",
    "def calcule_somme(nbmax, liste_multiples):\n",
    "    somme = 0\n",
    "    for n in range(nbmax):\n",
    "        for i in liste_multiples:\n",
    "            if n % i == 0 :\n",
    "                somme = somme + n\n",
    "                break\n",
    "    return somme\n",
    "\n",
    "calcule_somme(1000, [3, 5])\n",
    "\n",
    "\n"
   ]
  },
  {
   "cell_type": "markdown",
   "metadata": {},
   "source": [
    "5. Affichez toutes les paires possibles de deux lettres minuscules, une par ligne, dans l'ordre alphabétique. \n",
    "\n",
    "Cela devrait ressembler à ça :\n",
    "```\n",
    "aa\n",
    "ab\n",
    "...\n",
    "ba\n",
    "bb\n",
    "...\n",
    "zz\n",
    "```\n",
    "\n",
    "*(indice : jetez un coup d'oeil à [string.ascii_lowercase](https://docs.python.org/3/library/string.html) et [itertools](https://docs.python.org/3.8/library/itertools.html))*"
   ]
  },
  {
   "cell_type": "code",
   "execution_count": null,
   "metadata": {},
   "outputs": [],
   "source": [
    "# Votre réponse\n",
    "import string\n",
    "for x in string.ascii_lowercase:\n",
    "    for y in string.ascii_lowercase:\n",
    "        print (x + y)\n",
    "\n",
    "\n"
   ]
  },
  {
   "cell_type": "markdown",
   "metadata": {},
   "source": [
    "# Aller plus loin :\n",
    "\n",
    "Pour aller plus loin, rendez-vous sur le site de [HackInScience](https://www.hackinscience.org/), inscrivez-vous et commencez à faire les exercices. Antoine et Julie sont là pour vous aider, n'hésitez pas les solliciter !"
   ]
  }
 ],
 "metadata": {
  "kernelspec": {
   "display_name": "Python 3",
   "language": "python",
   "name": "python3"
  },
  "language_info": {
   "codemirror_mode": {
    "name": "ipython",
    "version": 3
   },
   "file_extension": ".py",
   "mimetype": "text/x-python",
   "name": "python",
   "nbconvert_exporter": "python",
   "pygments_lexer": "ipython3",
   "version": "3.7.3"
  }
 },
 "nbformat": 4,
 "nbformat_minor": 4
}
